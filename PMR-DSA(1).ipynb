{
 "cells": [
  {
   "cell_type": "markdown",
   "id": "477e452f",
   "metadata": {},
   "source": [
    "##### You are given a graph and a number x as input. Your task is to print the DFS traversal nodes of the input graph starting from node x. Complete the following function in order to give the required output.\n",
    "\n",
    "##### Input Format:\n",
    "\n",
    "The first line of input contains a list containing sets representing a graph. The second line of input contains the number x. \n",
    "\n",
    "##### Output Format:\n",
    "\n",
    "Complete the function in order to return the required output.\n",
    "\n",
    "##### Sample Input 0:\n",
    " \n",
    "[[1,0],[2,0],[3,0],[3,2]]\n",
    "\n",
    "3\n",
    "\n",
    "##### Sample Output 0:\n",
    "\n",
    "3 0 2 "
   ]
  },
  {
   "cell_type": "code",
   "execution_count": 5,
   "id": "bfbd88d7",
   "metadata": {},
   "outputs": [],
   "source": [
    "from collections import defaultdict"
   ]
  },
  {
   "cell_type": "code",
   "execution_count": 20,
   "id": "e4bdcba1",
   "metadata": {},
   "outputs": [
    {
     "name": "stdout",
     "output_type": "stream",
     "text": [
      "3 0 2 "
     ]
    }
   ],
   "source": [
    "class Graph:\n",
    "    def __init__(self):\n",
    "\n",
    "        self.diagram = defaultdict(list)\n",
    "\n",
    "    def Edge(self, u, v):\n",
    "        self.diagram[u].append(v)\n",
    "\n",
    "    def DFSUtil(self, v, visited):\n",
    "\n",
    "        visited.add(v)\n",
    "        print(v, end=' ')\n",
    "\n",
    "        for neighbour in self.diagram[v]:\n",
    "            if neighbour not in visited:\n",
    "                self.DFSUtil(neighbour, visited)\n",
    "                \n",
    "    def DFS(self, v):\n",
    "        visited = set()\n",
    "        self.DFSUtil(v, visited)\n",
    "# INPUT\n",
    "g = Graph()\n",
    "g.Edge(1, 0)\n",
    "g.Edge(2, 0)\n",
    "g.Edge(3, 0)\n",
    "g.Edge(3, 2)\n",
    "\n",
    "g.DFS(3)\n",
    "\n",
    "\n"
   ]
  },
  {
   "cell_type": "code",
   "execution_count": null,
   "id": "00a2825c",
   "metadata": {},
   "outputs": [],
   "source": []
  }
 ],
 "metadata": {
  "kernelspec": {
   "display_name": "Python 3 (ipykernel)",
   "language": "python",
   "name": "python3"
  },
  "language_info": {
   "codemirror_mode": {
    "name": "ipython",
    "version": 3
   },
   "file_extension": ".py",
   "mimetype": "text/x-python",
   "name": "python",
   "nbconvert_exporter": "python",
   "pygments_lexer": "ipython3",
   "version": "3.9.12"
  }
 },
 "nbformat": 4,
 "nbformat_minor": 5
}
